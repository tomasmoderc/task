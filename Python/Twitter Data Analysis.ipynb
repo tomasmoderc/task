{
 "cells": [
  {
   "cell_type": "markdown",
   "id": "38e88457",
   "metadata": {},
   "source": [
    "# Python for Data Analysis I\n",
    "\n",
    "## Individual assignment - Tomás R. Moderc"
   ]
  },
  {
   "cell_type": "markdown",
   "id": "5bb3e2f4",
   "metadata": {},
   "source": [
    "The goal is to analyze information about Tesla extracted from Twitter.\n",
    "\n",
    "In particular we will analyze data from 1000 tweets contained in a json file:\n",
    "\n",
    "https://en.wikipedia.org/wiki/JSON\n",
    "\n",
    "Note: json files can be opened directly in the browser"
   ]
  },
  {
   "cell_type": "code",
   "execution_count": 3,
   "id": "68f7f69b",
   "metadata": {},
   "outputs": [],
   "source": [
    "import json\n",
    "\n",
    "with open(\"./tweets.json\", \"r\") as f:\n",
    "    tweets = json.load(f)"
   ]
  },
  {
   "cell_type": "markdown",
   "id": "e44c49b4",
   "metadata": {},
   "source": [
    "What is the type of **tweets** variable?"
   ]
  },
  {
   "cell_type": "code",
   "execution_count": 4,
   "id": "ccd407c1",
   "metadata": {},
   "outputs": [
    {
     "data": {
      "text/plain": [
       "list"
      ]
     },
     "execution_count": 4,
     "metadata": {},
     "output_type": "execute_result"
    }
   ],
   "source": [
    "type(tweets)"
   ]
  },
  {
   "cell_type": "markdown",
   "id": "f600e9a5",
   "metadata": {},
   "source": [
    "What is the length of the variable tweets (how many tweets are there)?"
   ]
  },
  {
   "cell_type": "code",
   "execution_count": 5,
   "id": "a4650477",
   "metadata": {},
   "outputs": [
    {
     "data": {
      "text/plain": [
       "1000"
      ]
     },
     "execution_count": 5,
     "metadata": {},
     "output_type": "execute_result"
    }
   ],
   "source": [
    "len(tweets)"
   ]
  },
  {
   "cell_type": "markdown",
   "id": "ade73e78",
   "metadata": {},
   "source": [
    "Define the variable tweet as\n",
    "\n",
    "**tweet = tweets[0]**\n",
    "\n",
    "(i.e., the first tweet):"
   ]
  },
  {
   "cell_type": "code",
   "execution_count": 6,
   "id": "6a101f24",
   "metadata": {},
   "outputs": [],
   "source": [
    "tweet = tweets[0]"
   ]
  },
  {
   "cell_type": "markdown",
   "id": "2e36cdef",
   "metadata": {},
   "source": [
    "Print it:"
   ]
  },
  {
   "cell_type": "code",
   "execution_count": 7,
   "id": "50ae88e7",
   "metadata": {},
   "outputs": [
    {
     "name": "stdout",
     "output_type": "stream",
     "text": [
      "{'type': 'snscrape.modules.twitter.Tweet', 'url': 'https://twitter.com/MuppetPimpin/status/1538725786726932480', 'date': '2022-06-20T03:29:50+00:00', 'content': 'THANK YOU @elonmusk for bring an actual role model.\\n#Tesla \\n#Neuralink \\n#SolarCity\\n#BoringCompany \\n#Starlink \\n#SpaceX \\n#Amway [jk] \\n#IWantToBeLikeElon', 'renderedContent': 'THANK YOU @elonmusk for bring an actual role model.\\n#Tesla \\n#Neuralink \\n#SolarCity\\n#BoringCompany \\n#Starlink \\n#SpaceX \\n#Amway [jk] \\n#IWantToBeLikeElon', 'id': 1538725786726932480, 'user': {'type': 'snscrape.modules.twitter.User', 'username': 'MuppetPimpin', 'id': 4126270993, 'displayname': 'Muppet Pimpin', 'description': 'I pimp Muppets Exclusively. [its an untapped market]', 'rawDescription': 'I pimp Muppets Exclusively. [its an untapped market]', 'descriptionUrls': None, 'verified': False, 'created': '2015-11-04T17:35:13+00:00', 'followersCount': 285, 'friendsCount': 607, 'statusesCount': 5662, 'favouritesCount': 4139, 'listedCount': 6, 'mediaCount': 756, 'location': 'Las Vegas, NV', 'protected': False, 'linkUrl': None, 'linkTcourl': None, 'profileImageUrl': 'https://pbs.twimg.com/profile_images/661968695556636672/XLmNxZVX_normal.jpg', 'profileBannerUrl': 'https://pbs.twimg.com/profile_banners/4126270993/1588778794', 'label': None, 'url': 'https://twitter.com/MuppetPimpin'}, 'replyCount': 0, 'retweetCount': 0, 'likeCount': 0, 'quoteCount': 0, 'conversationId': 1538725786726932480, 'lang': 'en', 'source': '<a href=\"https://mobile.twitter.com\" rel=\"nofollow\">Twitter Web App</a>', 'sourceUrl': 'https://mobile.twitter.com', 'sourceLabel': 'Twitter Web App', 'outlinks': None, 'tcooutlinks': None, 'media': None, 'retweetedTweet': None, 'quotedTweet': None, 'inReplyToTweetId': None, 'inReplyToUser': None, 'mentionedUsers': [{'type': 'snscrape.modules.twitter.User', 'username': 'elonmusk', 'id': 44196397, 'displayname': 'Elon Musk', 'description': None, 'rawDescription': None, 'descriptionUrls': None, 'verified': None, 'created': None, 'followersCount': None, 'friendsCount': None, 'statusesCount': None, 'favouritesCount': None, 'listedCount': None, 'mediaCount': None, 'location': None, 'protected': None, 'linkUrl': None, 'linkTcourl': None, 'profileImageUrl': None, 'profileBannerUrl': None, 'label': None, 'url': 'https://twitter.com/elonmusk'}], 'coordinates': None, 'place': None, 'hashtags': ['Tesla', 'Neuralink', 'SolarCity', 'BoringCompany', 'Starlink', 'SpaceX', 'Amway', 'IWantToBeLikeElon'], 'cashtags': None, 'card': None}\n"
     ]
    }
   ],
   "source": [
    "print(tweet)"
   ]
  },
  {
   "cell_type": "markdown",
   "id": "12f3baa6",
   "metadata": {},
   "source": [
    "Or you can pretty-print it using pprint:"
   ]
  },
  {
   "cell_type": "code",
   "execution_count": 8,
   "id": "72a991a4",
   "metadata": {},
   "outputs": [
    {
     "name": "stdout",
     "output_type": "stream",
     "text": [
      "{'type': 'snscrape.modules.twitter.Tweet',\n",
      " 'url': 'https://twitter.com/MuppetPimpin/status/1538725786726932480',\n",
      " 'date': '2022-06-20T03:29:50+00:00',\n",
      " 'content': 'THANK YOU @elonmusk for bring an actual role model.\\n'\n",
      "            '#Tesla \\n'\n",
      "            '#Neuralink \\n'\n",
      "            '#SolarCity\\n'\n",
      "            '#BoringCompany \\n'\n",
      "            '#Starlink \\n'\n",
      "            '#SpaceX \\n'\n",
      "            '#Amway [jk] \\n'\n",
      "            '#IWantToBeLikeElon',\n",
      " 'renderedContent': 'THANK YOU @elonmusk for bring an actual role model.\\n'\n",
      "                    '#Tesla \\n'\n",
      "                    '#Neuralink \\n'\n",
      "                    '#SolarCity\\n'\n",
      "                    '#BoringCompany \\n'\n",
      "                    '#Starlink \\n'\n",
      "                    '#SpaceX \\n'\n",
      "                    '#Amway [jk] \\n'\n",
      "                    '#IWantToBeLikeElon',\n",
      " 'id': 1538725786726932480,\n",
      " 'user': {'type': 'snscrape.modules.twitter.User',\n",
      "          'username': 'MuppetPimpin',\n",
      "          'id': 4126270993,\n",
      "          'displayname': 'Muppet Pimpin',\n",
      "          'description': 'I pimp Muppets Exclusively. [its an untapped market]',\n",
      "          'rawDescription': 'I pimp Muppets Exclusively. [its an untapped '\n",
      "                            'market]',\n",
      "          'descriptionUrls': None,\n",
      "          'verified': False,\n",
      "          'created': '2015-11-04T17:35:13+00:00',\n",
      "          'followersCount': 285,\n",
      "          'friendsCount': 607,\n",
      "          'statusesCount': 5662,\n",
      "          'favouritesCount': 4139,\n",
      "          'listedCount': 6,\n",
      "          'mediaCount': 756,\n",
      "          'location': 'Las Vegas, NV',\n",
      "          'protected': False,\n",
      "          'linkUrl': None,\n",
      "          'linkTcourl': None,\n",
      "          'profileImageUrl': 'https://pbs.twimg.com/profile_images/661968695556636672/XLmNxZVX_normal.jpg',\n",
      "          'profileBannerUrl': 'https://pbs.twimg.com/profile_banners/4126270993/1588778794',\n",
      "          'label': None,\n",
      "          'url': 'https://twitter.com/MuppetPimpin'},\n",
      " 'replyCount': 0,\n",
      " 'retweetCount': 0,\n",
      " 'likeCount': 0,\n",
      " 'quoteCount': 0,\n",
      " 'conversationId': 1538725786726932480,\n",
      " 'lang': 'en',\n",
      " 'source': '<a href=\"https://mobile.twitter.com\" rel=\"nofollow\">Twitter Web '\n",
      "           'App</a>',\n",
      " 'sourceUrl': 'https://mobile.twitter.com',\n",
      " 'sourceLabel': 'Twitter Web App',\n",
      " 'outlinks': None,\n",
      " 'tcooutlinks': None,\n",
      " 'media': None,\n",
      " 'retweetedTweet': None,\n",
      " 'quotedTweet': None,\n",
      " 'inReplyToTweetId': None,\n",
      " 'inReplyToUser': None,\n",
      " 'mentionedUsers': [{'type': 'snscrape.modules.twitter.User',\n",
      "                     'username': 'elonmusk',\n",
      "                     'id': 44196397,\n",
      "                     'displayname': 'Elon Musk',\n",
      "                     'description': None,\n",
      "                     'rawDescription': None,\n",
      "                     'descriptionUrls': None,\n",
      "                     'verified': None,\n",
      "                     'created': None,\n",
      "                     'followersCount': None,\n",
      "                     'friendsCount': None,\n",
      "                     'statusesCount': None,\n",
      "                     'favouritesCount': None,\n",
      "                     'listedCount': None,\n",
      "                     'mediaCount': None,\n",
      "                     'location': None,\n",
      "                     'protected': None,\n",
      "                     'linkUrl': None,\n",
      "                     'linkTcourl': None,\n",
      "                     'profileImageUrl': None,\n",
      "                     'profileBannerUrl': None,\n",
      "                     'label': None,\n",
      "                     'url': 'https://twitter.com/elonmusk'}],\n",
      " 'coordinates': None,\n",
      " 'place': None,\n",
      " 'hashtags': ['Tesla',\n",
      "              'Neuralink',\n",
      "              'SolarCity',\n",
      "              'BoringCompany',\n",
      "              'Starlink',\n",
      "              'SpaceX',\n",
      "              'Amway',\n",
      "              'IWantToBeLikeElon'],\n",
      " 'cashtags': None,\n",
      " 'card': None}\n"
     ]
    }
   ],
   "source": [
    "from pprint import pprint\n",
    "\n",
    "pprint(tweet, sort_dicts=False)"
   ]
  },
  {
   "cell_type": "markdown",
   "id": "444eb9de",
   "metadata": {},
   "source": [
    "What is its type?"
   ]
  },
  {
   "cell_type": "code",
   "execution_count": 9,
   "id": "70fc4a16",
   "metadata": {},
   "outputs": [
    {
     "data": {
      "text/plain": [
       "dict"
      ]
     },
     "execution_count": 9,
     "metadata": {},
     "output_type": "execute_result"
    }
   ],
   "source": [
    "type(tweet)"
   ]
  },
  {
   "cell_type": "markdown",
   "id": "99be1662",
   "metadata": {},
   "source": [
    "Print the keys of tweet, tweet.keys(). What do you see?"
   ]
  },
  {
   "cell_type": "code",
   "execution_count": 10,
   "id": "90e27149",
   "metadata": {},
   "outputs": [
    {
     "name": "stdout",
     "output_type": "stream",
     "text": [
      "dict_keys(['type', 'url', 'date', 'content', 'renderedContent', 'id', 'user', 'replyCount', 'retweetCount', 'likeCount', 'quoteCount', 'conversationId', 'lang', 'source', 'sourceUrl', 'sourceLabel', 'outlinks', 'tcooutlinks', 'media', 'retweetedTweet', 'quotedTweet', 'inReplyToTweetId', 'inReplyToUser', 'mentionedUsers', 'coordinates', 'place', 'hashtags', 'cashtags', 'card'])\n"
     ]
    }
   ],
   "source": [
    "print(tweet.keys())"
   ]
  },
  {
   "cell_type": "markdown",
   "id": "7aa2bd0d",
   "metadata": {},
   "source": [
    "Now, if we want to access the content of the first tweet:"
   ]
  },
  {
   "cell_type": "code",
   "execution_count": 11,
   "id": "f9abb3c4",
   "metadata": {},
   "outputs": [
    {
     "data": {
      "text/plain": [
       "'THANK YOU @elonmusk for bring an actual role model.\\n#Tesla \\n#Neuralink \\n#SolarCity\\n#BoringCompany \\n#Starlink \\n#SpaceX \\n#Amway [jk] \\n#IWantToBeLikeElon'"
      ]
     },
     "execution_count": 11,
     "metadata": {},
     "output_type": "execute_result"
    }
   ],
   "source": [
    "tweet[\"content\"]"
   ]
  },
  {
   "cell_type": "markdown",
   "id": "5575bcc9",
   "metadata": {},
   "source": [
    "Or:"
   ]
  },
  {
   "cell_type": "code",
   "execution_count": 12,
   "id": "f94a9532",
   "metadata": {},
   "outputs": [
    {
     "data": {
      "text/plain": [
       "'THANK YOU @elonmusk for bring an actual role model.\\n#Tesla \\n#Neuralink \\n#SolarCity\\n#BoringCompany \\n#Starlink \\n#SpaceX \\n#Amway [jk] \\n#IWantToBeLikeElon'"
      ]
     },
     "execution_count": 12,
     "metadata": {},
     "output_type": "execute_result"
    }
   ],
   "source": [
    "tweets[0][\"content\"]"
   ]
  },
  {
   "cell_type": "markdown",
   "id": "e5411b06",
   "metadata": {},
   "source": [
    "What is the type of the **content** field?"
   ]
  },
  {
   "cell_type": "code",
   "execution_count": 13,
   "id": "dc887c57",
   "metadata": {},
   "outputs": [
    {
     "data": {
      "text/plain": [
       "str"
      ]
     },
     "execution_count": 13,
     "metadata": {},
     "output_type": "execute_result"
    }
   ],
   "source": [
    "type(tweets[0][\"content\"])"
   ]
  },
  {
   "cell_type": "markdown",
   "id": "34fa55a0",
   "metadata": {},
   "source": [
    "What is the type of the **user** field?"
   ]
  },
  {
   "cell_type": "code",
   "execution_count": 14,
   "id": "8362596e",
   "metadata": {},
   "outputs": [
    {
     "data": {
      "text/plain": [
       "dict"
      ]
     },
     "execution_count": 14,
     "metadata": {},
     "output_type": "execute_result"
    }
   ],
   "source": [
    "type(tweets[0][\"user\"])"
   ]
  },
  {
   "cell_type": "markdown",
   "id": "920c223b",
   "metadata": {},
   "source": [
    "Print it:"
   ]
  },
  {
   "cell_type": "code",
   "execution_count": 15,
   "id": "b411a299",
   "metadata": {},
   "outputs": [
    {
     "name": "stdout",
     "output_type": "stream",
     "text": [
      "{'type': 'snscrape.modules.twitter.User', 'username': 'MuppetPimpin', 'id': 4126270993, 'displayname': 'Muppet Pimpin', 'description': 'I pimp Muppets Exclusively. [its an untapped market]', 'rawDescription': 'I pimp Muppets Exclusively. [its an untapped market]', 'descriptionUrls': None, 'verified': False, 'created': '2015-11-04T17:35:13+00:00', 'followersCount': 285, 'friendsCount': 607, 'statusesCount': 5662, 'favouritesCount': 4139, 'listedCount': 6, 'mediaCount': 756, 'location': 'Las Vegas, NV', 'protected': False, 'linkUrl': None, 'linkTcourl': None, 'profileImageUrl': 'https://pbs.twimg.com/profile_images/661968695556636672/XLmNxZVX_normal.jpg', 'profileBannerUrl': 'https://pbs.twimg.com/profile_banners/4126270993/1588778794', 'label': None, 'url': 'https://twitter.com/MuppetPimpin'}\n"
     ]
    }
   ],
   "source": [
    "print(tweets[0][\"user\"])"
   ]
  },
  {
   "cell_type": "markdown",
   "id": "113f5593",
   "metadata": {},
   "source": [
    "Pretty-print it:"
   ]
  },
  {
   "cell_type": "code",
   "execution_count": 16,
   "id": "2efcb115",
   "metadata": {},
   "outputs": [
    {
     "name": "stdout",
     "output_type": "stream",
     "text": [
      "{'created': '2015-11-04T17:35:13+00:00',\n",
      " 'description': 'I pimp Muppets Exclusively. [its an untapped market]',\n",
      " 'descriptionUrls': None,\n",
      " 'displayname': 'Muppet Pimpin',\n",
      " 'favouritesCount': 4139,\n",
      " 'followersCount': 285,\n",
      " 'friendsCount': 607,\n",
      " 'id': 4126270993,\n",
      " 'label': None,\n",
      " 'linkTcourl': None,\n",
      " 'linkUrl': None,\n",
      " 'listedCount': 6,\n",
      " 'location': 'Las Vegas, NV',\n",
      " 'mediaCount': 756,\n",
      " 'profileBannerUrl': 'https://pbs.twimg.com/profile_banners/4126270993/1588778794',\n",
      " 'profileImageUrl': 'https://pbs.twimg.com/profile_images/661968695556636672/XLmNxZVX_normal.jpg',\n",
      " 'protected': False,\n",
      " 'rawDescription': 'I pimp Muppets Exclusively. [its an untapped market]',\n",
      " 'statusesCount': 5662,\n",
      " 'type': 'snscrape.modules.twitter.User',\n",
      " 'url': 'https://twitter.com/MuppetPimpin',\n",
      " 'username': 'MuppetPimpin',\n",
      " 'verified': False}\n"
     ]
    }
   ],
   "source": [
    "pprint(tweets[0][\"user\"])"
   ]
  },
  {
   "cell_type": "markdown",
   "id": "32829a8f",
   "metadata": {},
   "source": [
    "What is the username of the user of the first tweet?"
   ]
  },
  {
   "cell_type": "code",
   "execution_count": 17,
   "id": "09a59cf2",
   "metadata": {},
   "outputs": [
    {
     "name": "stdout",
     "output_type": "stream",
     "text": [
      "'MuppetPimpin'\n"
     ]
    }
   ],
   "source": [
    "pprint(tweets[0][\"user\"][\"username\"])"
   ]
  },
  {
   "cell_type": "markdown",
   "id": "41bf1d3d",
   "metadata": {},
   "source": [
    "What is the type of the **hashtags** field?"
   ]
  },
  {
   "cell_type": "code",
   "execution_count": 18,
   "id": "2be22106",
   "metadata": {},
   "outputs": [
    {
     "data": {
      "text/plain": [
       "list"
      ]
     },
     "execution_count": 18,
     "metadata": {},
     "output_type": "execute_result"
    }
   ],
   "source": [
    "type(tweets[0][\"hashtags\"])"
   ]
  },
  {
   "cell_type": "markdown",
   "id": "98f82a53",
   "metadata": {},
   "source": [
    "Print its content:"
   ]
  },
  {
   "cell_type": "code",
   "execution_count": 19,
   "id": "da4e7385",
   "metadata": {},
   "outputs": [
    {
     "name": "stdout",
     "output_type": "stream",
     "text": [
      "['Tesla', 'Neuralink', 'SolarCity', 'BoringCompany', 'Starlink', 'SpaceX', 'Amway', 'IWantToBeLikeElon']\n"
     ]
    }
   ],
   "source": [
    "print(tweets[0][\"hashtags\"])"
   ]
  },
  {
   "cell_type": "markdown",
   "id": "d29ac814",
   "metadata": {},
   "source": [
    "## Exercises"
   ]
  },
  {
   "cell_type": "markdown",
   "id": "cdb0bdc5",
   "metadata": {},
   "source": [
    "1- How many tweets are **not** written in English? [advanced: calculate the number of tweets in each language used]\n",
    "\n",
    "2- How many tweets contain the word \"battery\" (whether in upper or lower case)?\n",
    "\n",
    "3- What is the longest tweet (print its content and ID)?\n",
    "\n",
    "4- And the shortest one (print its content and ID)?\n",
    "\n",
    "5- How many hashtags does a tweet have on average?"
   ]
  },
  {
   "cell_type": "markdown",
   "id": "e9ee3774",
   "metadata": {},
   "source": [
    "## Exercise 1:\n",
    "### <font color=\"grey\">How many tweets are **not** written in English? [advanced: calculate the number of tweets in each language used] </font>"
   ]
  },
  {
   "cell_type": "code",
   "execution_count": 48,
   "id": "7fa4ce4f",
   "metadata": {},
   "outputs": [
    {
     "name": "stdout",
     "output_type": "stream",
     "text": [
      "There are 172 tweets that are not in english\n"
     ]
    }
   ],
   "source": [
    "#In this for loop, I check if it is in English or not. When it is not in English, it adds +1\n",
    "\n",
    "count = 0             \n",
    "n = len(tweets)\n",
    "\n",
    "for i in range (n) :                    \n",
    "    if tweets[i]['lang'] != 'en' :\n",
    "        count +=1\n",
    "        \n",
    "print('There are ' + str(count) + ' tweets that are not in english')"
   ]
  },
  {
   "cell_type": "markdown",
   "id": "16728a9e",
   "metadata": {},
   "source": [
    "## Exercise 1 (Advanced using Pandas):\n",
    "### <font color=\"grey\">How many tweets are **not** written in English? [advanced: calculate the number of tweets in each language used] </font>"
   ]
  },
  {
   "cell_type": "code",
   "execution_count": 49,
   "id": "28a56c32",
   "metadata": {},
   "outputs": [
    {
     "data": {
      "text/plain": [
       "en     828\n",
       "es      43\n",
       "ja      28\n",
       "pt      18\n",
       "in      11\n",
       "ko      10\n",
       "qme      8\n",
       "und      8\n",
       "tr       7\n",
       "fr       5\n",
       "de       5\n",
       "ca       4\n",
       "cy       4\n",
       "et       3\n",
       "zh       3\n",
       "ht       3\n",
       "th       2\n",
       "eu       2\n",
       "qam      1\n",
       "nl       1\n",
       "lv       1\n",
       "it       1\n",
       "hu       1\n",
       "fi       1\n",
       "ar       1\n",
       "tl       1\n",
       "dtype: int64"
      ]
     },
     "execution_count": 49,
     "metadata": {},
     "output_type": "execute_result"
    }
   ],
   "source": [
    "import pandas as pd\n",
    "l =[]\n",
    "r = len(tweets)\n",
    "for i in range (r):\n",
    "    l.append(tweets[i]['lang'])\n",
    "pd.value_counts(l)"
   ]
  },
  {
   "cell_type": "markdown",
   "id": "5765c2ba",
   "metadata": {},
   "source": [
    "## Exercise 1 (Advanced without using Pandas):\n",
    "### <font color=\"grey\">How many tweets are **not** written in English? [advanced: calculate the number of tweets in each language used] </font>"
   ]
  },
  {
   "cell_type": "code",
   "execution_count": 50,
   "id": "96897dfa",
   "metadata": {},
   "outputs": [
    {
     "name": "stdout",
     "output_type": "stream",
     "text": [
      "en tweets have been written 828 times\n",
      "es tweets have been written 43 times\n",
      "ja tweets have been written 28 times\n",
      "pt tweets have been written 18 times\n",
      "in tweets have been written 11 times\n",
      "ko tweets have been written 10 times\n",
      "qme tweets have been written 8 times\n",
      "und tweets have been written 8 times\n",
      "tr tweets have been written 7 times\n",
      "fr tweets have been written 5 times\n",
      "de tweets have been written 5 times\n",
      "ca tweets have been written 4 times\n",
      "cy tweets have been written 4 times\n",
      "et tweets have been written 3 times\n",
      "zh tweets have been written 3 times\n",
      "ht tweets have been written 3 times\n",
      "th tweets have been written 2 times\n",
      "eu tweets have been written 2 times\n",
      "qam tweets have been written 1 times\n",
      "nl tweets have been written 1 times\n",
      "lv tweets have been written 1 times\n",
      "it tweets have been written 1 times\n",
      "hu tweets have been written 1 times\n",
      "fi tweets have been written 1 times\n",
      "ar tweets have been written 1 times\n",
      "tl tweets have been written 1 times\n"
     ]
    }
   ],
   "source": [
    "lis=[]\n",
    "\n",
    "for i in range (0, len(tweets)):\n",
    "    lis.append(tweets[i][\"lang\"])\n",
    "pd.value_counts(lis)\n",
    "\n",
    "for i in range (0,len(pd.value_counts(lis))):\n",
    "    print(pd.value_counts(lis).index.tolist()[i] ,\"tweets have been written\",pd.value_counts(lis)[i], \"times\")"
   ]
  },
  {
   "cell_type": "markdown",
   "id": "5bd5dd45",
   "metadata": {},
   "source": [
    "## Exercise 2:\n",
    "### <font color=\"grey\">How many tweets contain the word \"battery\" (whether in upper or lower case)? </font>"
   ]
  },
  {
   "cell_type": "code",
   "execution_count": 31,
   "id": "546c6bb4",
   "metadata": {
    "scrolled": true
   },
   "outputs": [
    {
     "name": "stdout",
     "output_type": "stream",
     "text": [
      "All the times the Battery word appears:  14\n",
      "Battery with lower case:  12\n",
      "Battery with upper case:  2\n"
     ]
    }
   ],
   "source": [
    "#This code shows the amount of times the word 'battery' appears.\n",
    "#In total, the world has appeared 14 times, but taking into account that sometimes it appears with upper and lower cases,\n",
    "#I have decided to include those results too.\n",
    "\n",
    "count_all = 0\n",
    "count_lower = 0\n",
    "count_upper = 0\n",
    "\n",
    "n = len(tweets)\n",
    "for i in range (0,n):                    \n",
    "    if \"battery\" in tweets[i]['content'].lower():\n",
    "        count_all +=1\n",
    "print('All the times the Battery word appears: ', count_all)    \n",
    "\n",
    "for i in range (0,n):                    \n",
    "    if \"battery\" in tweets[i]['content']:\n",
    "        count_lower +=1\n",
    "print('Battery with lower case: ', count_lower)\n",
    "\n",
    "for i in range (0,n):                    \n",
    "    if \"Battery\" in tweets[i]['content']:\n",
    "        count_upper +=1\n",
    "print('Battery with upper case: ', count_upper)"
   ]
  },
  {
   "cell_type": "markdown",
   "id": "cbc756e4",
   "metadata": {},
   "source": [
    "## Exercise 3:\n",
    "### <font color=\"grey\">What is the longest tweet (print its content and ID)? </font>"
   ]
  },
  {
   "cell_type": "code",
   "execution_count": 51,
   "id": "1f000c47",
   "metadata": {},
   "outputs": [
    {
     "name": "stdout",
     "output_type": "stream",
     "text": [
      "The longest tweet has a length of:  821 \n",
      "\n",
      "The id of this tweet is:  1538723745979842563 \n",
      "\n",
      "That tweet has the following content:\n",
      "('@Dig1Tesla @LiberwolfLiber @Gabbicha_rueda @MiguelB50473177 @MI_NUEVO_CLON '\n",
      " '@MinekoKia @ROLFICOMPAFUEGO @ManuelVegaMX @AntilopeMalo @SUperMarioAnti4 '\n",
      " '@pejestad @NETORO70 @angelsancas @napoles_o @ElLoboFenix @AlanFrancisco75 '\n",
      " '@Lpez1Pio @AcmeMxx @JL0_42 @estanislaojr @_JEAL @samcro876376274 @evilscrat '\n",
      " '@mind_jacket @Vane_SiVal @jmvillalpando04 @NateHowl @jlopal_4T @blkalexmx '\n",
      " '@MIKE_DRG4915 @KleineKrOteFifi @AnalystTyrion @camagui1971 @LauraOsuna_4T '\n",
      " '@adnware @RobertoCanavar1 @ArturoV10636646 @GianinoGian @el_Barto__ '\n",
      " '@Mvp_2022e @secuaz @CantRefund @Val20_20 @lorenzo3017 @joset7285 '\n",
      " '@sin_socialismo @JaimeCCS @maurotimauroti @PabloMtzDelCam1 @GMonroyEnergy '\n",
      " '🤣🤣🤣😂 El embajador de EUA decía que Borolas era alcohólico y su guerra contra '\n",
      " 'el narco una farsa, Tesla pendejo, borolas te deja muy mal parado🤣🤣\\n'\n",
      " 'https://t.co/cBeENcDu8i')\n"
     ]
    }
   ],
   "source": [
    "#I made a loop that has a conditional. The conditional reads one by one and keeps the one that is longer:\n",
    "\n",
    "n = len(tweets)\n",
    "max_length = 0\n",
    "tweet = 0\n",
    "\n",
    "for i in range (n):\n",
    "    if len(tweets[i]['content']) > max_length:\n",
    "        max_length = len(tweets[i]['content'])\n",
    "        tweet = i\n",
    "    \n",
    "print(\"The longest tweet has a length of: \",max_length, \"\\n\")\n",
    "print(\"The id of this tweet is: \",tweets[tweet][\"id\"], \"\\n\")\n",
    "print(\"That tweet has the following content:\")\n",
    "pprint(tweets[tweet][\"content\"])"
   ]
  },
  {
   "cell_type": "markdown",
   "id": "1c6e9404",
   "metadata": {},
   "source": [
    "## Exercise 4:\n",
    "### <font color=\"grey\">And the shortest one (print its content and ID)?? </font>"
   ]
  },
  {
   "cell_type": "code",
   "execution_count": 54,
   "id": "83befcba",
   "metadata": {},
   "outputs": [
    {
     "name": "stdout",
     "output_type": "stream",
     "text": [
      "The shortest tweet has a length of:  12 \n",
      "\n",
      "The shortest Tweet says:  Nikola Tesla \n",
      "\n",
      "The ID of this tweet is:  1538716370392825856\n"
     ]
    }
   ],
   "source": [
    "n = len(tweets)\n",
    "min_length = 345678\n",
    "tweet = 0\n",
    "                                                    \n",
    "for i in range (n) :                                \n",
    "    if len(tweets[i]['content']) < min_length:      \n",
    "        min_length = len(tweets[i]['content'])     \n",
    "        tweet = i\n",
    "\n",
    "print(\"The shortest tweet has a length of: \",min_length, \"\\n\")\n",
    "print('The shortest Tweet says: ', tweets[tweet]['content'], \"\\n\")\n",
    "print('The ID of this tweet is: ', tweets[tweet]['id'])"
   ]
  },
  {
   "cell_type": "markdown",
   "id": "d25f5868",
   "metadata": {},
   "source": [
    "## Exercise 5:\n",
    "### <font color=\"grey\"> How many hashtags does a tweet have on average? </font>"
   ]
  },
  {
   "cell_type": "code",
   "execution_count": 53,
   "id": "d58d1bb8",
   "metadata": {},
   "outputs": [
    {
     "name": "stdout",
     "output_type": "stream",
     "text": [
      "The summ of all the Hastags is:  673\n",
      "The average of Hashtag is:  0.673\n"
     ]
    }
   ],
   "source": [
    "#In this case, I have searched the field hashtag. Thanks to the length of the field hashtag,\n",
    "#I know the number of hashtags. If it is null, I transform it into a 0 so I can add it.\n",
    "\n",
    "sum = 0\n",
    "\n",
    "for i in range (0, len(tweets)):\n",
    "    if tweets[i][\"hashtags\"]==None:      \n",
    "        cn=0\n",
    "    else: \n",
    "        cn=len(tweets[i][\"hashtags\"])\n",
    "        sum = sum + cn                      \n",
    "\n",
    "\n",
    "print(\"The summ of all the Hastags is: \", sum)\n",
    "print(\"The average of Hashtag is: \", sum/1000)"
   ]
  },
  {
   "cell_type": "markdown",
   "id": "07cde014",
   "metadata": {},
   "source": [
    "### Additional information (just in case you are curious):\n",
    "\n",
    "Twitter data was collected using snscrape library:\n",
    "\n",
    "https://github.com/JustAnotherArchivist/snscrape\n",
    "\n",
    "This library allows you to perform any search you can do from the Twitter application.\n",
    "\n",
    "If you want to extract new tweets about Tesla (1000 most recent tweets), uncomment and run the following line to install the **snscrape** library:"
   ]
  },
  {
   "cell_type": "code",
   "execution_count": null,
   "id": "86c04072",
   "metadata": {},
   "outputs": [],
   "source": [
    "#!pip install git+https://github.com/JustAnotherArchivist/snscrape.git"
   ]
  },
  {
   "cell_type": "markdown",
   "id": "4cc5f2b9",
   "metadata": {},
   "source": [
    "And run these cells:"
   ]
  },
  {
   "cell_type": "code",
   "execution_count": null,
   "id": "8d644a98",
   "metadata": {},
   "outputs": [],
   "source": [
    "import os\n",
    "import json\n",
    "\n",
    "tweet_count = 1000\n",
    "\n",
    "# Using OS library to call CLI commands in Python\n",
    "aux = \"snscrape --jsonl --max-results {} twitter-search 'tesla'> tweets.txt\".format(tweet_count)\n",
    "print(aux)\n",
    "os.system(aux)"
   ]
  },
  {
   "cell_type": "code",
   "execution_count": null,
   "id": "4937a623",
   "metadata": {},
   "outputs": [],
   "source": [
    "def faux(x):\n",
    "    return eval(x.replace('\"_type\"', '\"type\"').replace(\"null\", \"None\").replace(\"true\", \"True\").replace(\"false\", \"False\"))\n",
    "\n",
    "with open(\"./tweets.txt\", \"r\") as f:\n",
    "    tweets_aux = f.readlines()\n",
    "\n",
    "tweets_aux = [faux(x) for x in tweets_aux]\n",
    "\n",
    "with open(\"./tweets.json\", \"w\") as f:\n",
    "    json.dump(tweets_aux, f, indent=4)"
   ]
  },
  {
   "cell_type": "code",
   "execution_count": null,
   "id": "cecd7121",
   "metadata": {},
   "outputs": [],
   "source": []
  }
 ],
 "metadata": {
  "environment": {
   "name": "common-cpu.m68",
   "type": "gcloud",
   "uri": "gcr.io/deeplearning-platform-release/base-cpu:m68"
  },
  "kernelspec": {
   "display_name": "Python 3 (ipykernel)",
   "language": "python",
   "name": "python3"
  },
  "language_info": {
   "codemirror_mode": {
    "name": "ipython",
    "version": 3
   },
   "file_extension": ".py",
   "mimetype": "text/x-python",
   "name": "python",
   "nbconvert_exporter": "python",
   "pygments_lexer": "ipython3",
   "version": "3.9.7"
  }
 },
 "nbformat": 4,
 "nbformat_minor": 5
}
